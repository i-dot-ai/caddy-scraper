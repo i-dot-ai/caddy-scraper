{
 "cells": [
  {
   "cell_type": "code",
   "execution_count": null,
   "metadata": {},
   "outputs": [],
   "source": [
    "import os\n",
    "from langchain_aws import ChatBedrock\n",
    "import boto3\n",
    "from requests_aws4auth import AWS4Auth\n",
    "from langchain_community.embeddings import BedrockEmbeddings\n",
    "from langchain_community.vectorstores import OpenSearchVectorSearch\n",
    "from opensearchpy import RequestsHttpConnection\n",
    "\n",
    "\n",
    "session = boto3.Session()\n",
    "credentials = session.get_credentials()\n",
    "auth_creds = AWS4Auth(\n",
    "    region=\"eu-west-3\",\n",
    "    service=\"aoss\",\n",
    "    refreshable_credentials=credentials,\n",
    ")\n",
    "authentication_creds=(os.getenv(\"OPENSEARCH_ADMIN\"), os.getenv(\"OPENSEARCH_ADMIN_PASSWORD\"))\n",
    "llm = ChatBedrock(\n",
    "    model_id=\"amazon.titan-text-express-v1\", region_name=\"eu-west-3\"\n",
    ")\n",
    "\n",
    "embedding_model = BedrockEmbeddings(\n",
    "    model_id=\"cohere.embed-english-v3\", region_name=\"eu-west-3\"\n",
    ")"
   ]
  },
  {
   "cell_type": "code",
   "execution_count": null,
   "metadata": {},
   "outputs": [],
   "source": [
    "vectorstore = OpenSearchVectorSearch(\n",
    "    index_name=\"ca_test\",\n",
    "    opensearch_url=\"https://search-caddy-vector-db-qocexipbio42soi53zdl5zzcqy.eu-west-2.es.amazonaws.com\",\n",
    "    http_auth=authentication_creds,\n",
    "    embedding_function=embedding_model,\n",
    "    connection_class=RequestsHttpConnection,\n",
    ")"
   ]
  },
  {
   "cell_type": "code",
   "execution_count": null,
   "metadata": {},
   "outputs": [],
   "source": [
    "retriever = vectorstore.as_retriever(search_type='mmr',search_kwargs={\"k\": 10})"
   ]
  },
  {
   "cell_type": "code",
   "execution_count": null,
   "metadata": {},
   "outputs": [],
   "source": [
    "from langchain_core.prompts import PromptTemplate\n",
    "from langchain_core.output_parsers import StrOutputParser\n",
    "\n",
    "# Prompt\n",
    "prompt =  PromptTemplate.from_template(\"\"\"You are an AI assistant tool helping advisors provide information to people seeking legal advise. \n",
    "Provide all the relevant information from the following DOCUMENTS required to answer the QUESTION.\n",
    "\n",
    "QUESTION:\n",
    "{question}\n",
    "\n",
    "DOCUMENTS:\n",
    "{context}\n",
    "\"\"\")\n",
    "rag_chain = prompt | llm | StrOutputParser()\n",
    "\n",
    "\n",
    "class GradeDocuments(BaseModel):\n",
    "    \"\"\"Binary score for relevance check on retrieved documents.\"\"\"\n",
    "\n",
    "    binary_score: str = Field(\n",
    "        description=\"Documents are relevant to the question, 'yes' or 'no'\"\n",
    "    )\n",
    "\n",
    "structured_llm_grader = llm.with_structured_output(GradeDocuments)\n",
    "\n",
    "system = \"\"\"You are a grader assessing relevance of a retrieved document to a user question. \\n \n",
    "    If the document contains keyword(s) or semantic meaning related to the user question, grade it as relevant. \\n\n",
    "    It does not need to be a stringent test. The goal is to filter out erroneous retrievals. \\n\n",
    "    Give a binary score 'yes' or 'no' score to indicate whether the document is relevant to the question.\n",
    "    Only respond with a single word return nothing else (no whitespace).\n",
    "    \"\"\"\n",
    "grade_prompt = ChatPromptTemplate.from_messages(\n",
    "    [\n",
    "        (\"system\", system),\n",
    "        (\"human\", \"Retrieved document: \\n\\n {document} \\n\\n User question: {question}\"),\n",
    "    ]\n",
    ")\n",
    "\n",
    "retrieval_grader = grade_prompt | llm |StrOutputParser()"
   ]
  },
  {
   "cell_type": "code",
   "execution_count": null,
   "metadata": {},
   "outputs": [],
   "source": [
    "question=\"help with mortgage\"\n",
    "docs = retriever.invoke(question)"
   ]
  },
  {
   "cell_type": "code",
   "execution_count": null,
   "metadata": {},
   "outputs": [],
   "source": [
    "retrieval_grader.invoke({'document': docs[0], 'question':question})"
   ]
  },
  {
   "cell_type": "code",
   "execution_count": null,
   "metadata": {},
   "outputs": [],
   "source": [
    "from typing import Annotated\n",
    "from pprint import pprint\n",
    "\n",
    "\n",
    "from typing_extensions import TypedDict\n",
    "\n",
    "from langchain.schema import Document\n",
    "from langgraph.graph import StateGraph, START, END\n",
    "from langgraph.graph.message import add_messages\n",
    "\n",
    "from typing import Literal\n",
    "\n",
    "from langchain_core.prompts import ChatPromptTemplate\n",
    "from langchain_core.pydantic_v1 import BaseModel, Field\n",
    "from langgraph.checkpoint.memory import MemorySaver\n",
    "from langgraph.graph import END, StateGraph, START\n",
    "from IPython.display import Image, display\n",
    "\n",
    "\n",
    "class GraphState(TypedDict):\n",
    "    \"\"\"\n",
    "    Represents the state of our graph.\n",
    "\n",
    "    Attributes:\n",
    "        question: question\n",
    "        generation: LLM generation\n",
    "        documents: list of documents\n",
    "    \"\"\"\n",
    "\n",
    "    question: str\n",
    "    generation: str\n",
    "    documents: list[str]\n",
    "\n",
    "\n",
    "class GradeDocuments(BaseModel):\n",
    "    \"\"\"Binary score for relevance check on retrieved documents.\"\"\"\n",
    "\n",
    "    binary_score: str = Field(\n",
    "        description=\"Documents are relevant to the question, 'yes' or 'no'\"\n",
    "    )\n",
    "\n",
    "\n",
    "def retrieval(state):\n",
    "    \"\"\"\n",
    "    Retrieve documents\n",
    "\n",
    "    Args:\n",
    "        state (dict): The current graph state\n",
    "\n",
    "    Returns:\n",
    "        state (dict): New key added to state, documents, that contains retrieved documents\n",
    "    \"\"\"\n",
    "    print(\"---RETRIEVE---\")\n",
    "    question = state[\"question\"]\n",
    "\n",
    "    # Retrieval\n",
    "    documents = retriever.invoke(question)\n",
    "    return {\"documents\": documents, \"question\": question}\n",
    "\n",
    "\n",
    "def generate(state):\n",
    "    \"\"\"\n",
    "    Generate answer\n",
    "\n",
    "    Args:\n",
    "        state (dict): The current graph state\n",
    "\n",
    "    Returns:\n",
    "        state (dict): New key added to state, generation, that contains LLM generation\n",
    "    \"\"\"\n",
    "    print(\"---GENERATE---\")\n",
    "    question = state[\"question\"]\n",
    "    documents = state[\"documents\"]\n",
    "    full_documnes = [d.metadata['raw_markdown'] for d in documents]\n",
    "\n",
    "    # RAG generation\n",
    "    generation = rag_chain.invoke({\"context\": documents, \"question\": question})\n",
    "    return {\"documents\": documents, \"question\": question, \"generation\": generation}\n",
    "\n",
    "def grade_documents(state):\n",
    "    \"\"\"\n",
    "    Determines whether the retrieved documents are relevant to the question.\n",
    "\n",
    "    Args:\n",
    "        state (dict): The current graph state\n",
    "\n",
    "    Returns:\n",
    "        state (dict): Updates documents key with only filtered relevant documents\n",
    "    \"\"\"\n",
    "\n",
    "    print(\"---CHECK DOCUMENT RELEVANCE TO QUESTION---\")\n",
    "    question = state[\"question\"]\n",
    "    documents = state[\"documents\"]\n",
    "\n",
    "    # Score each doc\n",
    "    print(f\"Docs retrieved: {len(documents)}\")\n",
    "    filtered_docs = []\n",
    "    for d in documents:\n",
    "        relevance = retrieval_grader.invoke(\n",
    "            {\"question\": question, \"document\": d.page_content}\n",
    "        )\n",
    "        grade = relevance\n",
    "        if \"yes\" in grade:\n",
    "            print(\"---GRADE: DOCUMENT RELEVANT---\")\n",
    "            filtered_docs.append(d)\n",
    "        else:\n",
    "            print(\"---GRADE: DOCUMENT NOT RELEVANT---\")\n",
    "            continue\n",
    "    print(f\"Docs After filtering: {len(filtered_docs)}\")\n",
    "    return {\"documents\": filtered_docs, \"question\": question}\n"
   ]
  },
  {
   "cell_type": "code",
   "execution_count": 196,
   "metadata": {},
   "outputs": [
    {
     "data": {
      "image/jpeg": "[encoded data removed]",
      "text/plain": [
       "<IPython.core.display.Image object>"
      ]
     },
     "metadata": {},
     "output_type": "display_data"
    }
   ],
   "source": [
    "\n",
    "workflow = StateGraph(GraphState)\n",
    "\n",
    "# Define the nodes\n",
    "workflow.add_node(\"retrieval\", retrieval) \n",
    "workflow.add_node(\"grader\", grade_documents)  \n",
    "workflow.add_node(\"generate\", generate)  \n",
    "\n",
    "\n",
    "workflow.add_edge(START, \"retrieval\")\n",
    "workflow.add_edge(\"retrieval\", \"grader\")\n",
    "workflow.add_edge(\"grader\", \"generate\")\n",
    "workflow.add_edge(\"generate\", END) \n",
    "\n",
    "\n",
    "\n",
    "checkpointer = MemorySaver()\n",
    "\n",
    "app = workflow.compile(\n",
    "    checkpointer=checkpointer,\n",
    "    interrupt_after=[\"grader\"],\n",
    ")\n",
    "\n",
    "display(Image(app.get_graph().draw_mermaid_png()))"
   ]
  },
  {
   "cell_type": "code",
   "execution_count": 197,
   "metadata": {},
   "outputs": [
    {
     "name": "stdout",
     "output_type": "stream",
     "text": [
      "---RETRIEVE---\n",
      "---CHECK DOCUMENT RELEVANCE TO QUESTION---\n",
      "Docs retrieved: 10\n",
      "---GRADE: DOCUMENT RELEVANT---\n",
      "---GRADE: DOCUMENT NOT RELEVANT---\n",
      "---GRADE: DOCUMENT NOT RELEVANT---\n",
      "---GRADE: DOCUMENT RELEVANT---\n",
      "---GRADE: DOCUMENT RELEVANT---\n",
      "---GRADE: DOCUMENT RELEVANT---\n",
      "---GRADE: DOCUMENT NOT RELEVANT---\n",
      "---GRADE: DOCUMENT RELEVANT---\n",
      "---GRADE: DOCUMENT RELEVANT---\n",
      "---GRADE: DOCUMENT NOT RELEVANT---\n",
      "Docs After filtering: 6\n",
      "Please select which of the following documents you would like to use for generation:\n"
     ]
    },
    {
     "data": {
      "text/plain": [
       "[Document(metadata={'source_url': 'https://www.citizensadvice.org.uk/consumer/energy/energy-supply/problems-with-your-energy-bill/your-gas-or-electricity-supplier-has-put-up-its-prices/', 'markdown_length': 4562, 'raw_markdown': \"#  Your energy supplier has put its prices up\\nThis advice applies to England.  See advice for [See advice for Northern\\nIreland](/northern-ireland/consumer/energy/energy-supply/problems-with-your-\\nenergy-bill/your-gas-or-electricity-supplier-has-put-up-its-prices/), [See\\nadvice for Scotland](/scotland/consumer/energy/energy-supply/problems-with-\\nyour-energy-bill/your-gas-or-electricity-supplier-has-put-up-its-prices/),\\n[See advice for Wales](/wales/consumer/energy/energy-supply/problems-with-\\nyour-energy-bill/your-gas-or-electricity-supplier-has-put-up-its-prices/)\\nIf your gas or electricity supplier increases its prices, they should tell you\\nin a reasonable amount of time before the change takes place. This is called\\ngiving you notice.\\nHow much notice they give you will depend on your supplier - it could be\\nbetween 3 and 10 days. You can find out how much notice your supplier will\\ngive by contacting them or checking your contract.\\nYou should [complain to your supplier](/consumer/energy/energy-\\nsupply/complain-about-an-energy-company/complain-to-your-energy-supplier/) if\\nyou think they haven’t given you reasonable notice.\\nIf you’re struggling to pay your energy bills or top up your prepayment meter\\nyou might be able to get extra help. [Check if you can get grants and benefits\\nto help pay your energy bills](/consumer/energy/energy-supply/get-help-paying-\\nyour-bills/grants-and-benefits-to-help-you-pay-your-energy-bills/).\\n## If you’re on a fixed tariff\\nYour supplier can’t increase the price you pay, unless the government has\\nraised VAT.\\nYour energy bill can still go up and down. The amount you’re charged is set by\\nthe amount of energy you use, the unit cost and the daily fee. The unit cost\\nof your energy and the daily fee are fixed.\\nIf you’re not sure if you’re on a fixed tariff, check your bill. If it says\\nyour contract has an end date, this means you’re on a fixed tariff.\\nFixed tariffs usually last for a year.\\n### If your direct debit payments have increased\\nYour payments have probably gone up because you’re using more energy than your\\nsupplier expected. They’ll increase your monthly payments to make sure you’re\\npaying for the amount of energy you use. The price of your energy and daily\\nfee have stayed the same.\\nYour supplier should give you reasonable notice of any changes to your direct\\ndebit payments. They should also explain why the change is necessary.\\n[Find out about direct debit increases and what to do if you\\ndisagree](/consumer/energy/energy-supply/problems-with-your-energy-\\nbill/energy-supplier-has-increased-your-direct-debit/).\\n### When your fixed tariff ends\\nIf your fixed tariff is coming to an end then you can choose to move onto your\\nsupplier’s default tariff - this will be the standard variable. Your supplier\\nwill automatically move you onto this tariff when the fixed deal has ended.\\nYour supplier should remind you when your contract is about to end.\\nIf your fixed tariff has already ended, you can still switch supplier or\\ntariff. Contact your supplier to ask about their other tariffs or [check how\\nto switch supplier](/consumer/energy/energy-supply/get-a-better-energy-\\ndeal/switching-energy-supplier/).\\nYou should complain to your supplier if they:\\n  * don’t remind you about the end of your contract\\n  * charge you a fee to switch supplier if your contract ends in the next 7 weeks\\n  * charge you an exit fee to switch supplier after they said you can switch\\n[Check how to complain to your energy supplier](/consumer/energy/energy-\\nsupply/complain-about-an-energy-company/complain-to-your-energy-supplier/).\\n## If you’re struggling with living costs\\nIf you’re struggling with money, there are things you can do to save on your\\nregular living costs. [Check what to do if you need help with living\\ncosts](/debt-and-money/cost-of-living/get-help-with-the-cost-of-living/).\\nIf you’re finding it hard to pay your bills, you can get help. [Find out more\\nabout getting help with your bills](/debt-and-money/budgeting1/get-help-with-\\nbills/).\\nYou can also [get help with debts](/debt-and-money/help-with-debt/).\\nIf you're struggling to pay for food, [find out how to get help from a food\\nbank](/debt-and-money/using-a-food-bank/).\\n## Help us improve our website\\n[Take 3 minutes to tell us if you found what you needed on our\\nwebsite.](https://www.research.net/r/PZ7TFCQ?p=%2Fconsumer%2Fenergy%2Fenergy-\\nsupply%2Fproblems-with-your-energy-bill%2Fyour-gas-or-electricity-supplier-\\nhas-put-up-its-prices) Your feedback will help us give millions of people the\\ninformation they need.\\n## Related content\\n\"}, page_content=\"If you’re finding it hard to pay your bills, you can get help. [Find out more\\nabout getting help with your bills](/debt-and-money/budgeting1/get-help-with-\\nbills/).\\nYou can also [get help with debts](/debt-and-money/help-with-debt/).\\nIf you're struggling to pay for food, [find out how to get help from a food\\nbank](/debt-and-money/using-a-food-bank/).\\n## Help us improve our website\\n[Take 3 minutes to tell us if you found what you needed on our\\nwebsite.](https://www.research.net/r/PZ7TFCQ?p=%2Fconsumer%2Fenergy%2Fenergy-\\nsupply%2Fproblems-with-your-energy-bill%2Fyour-gas-or-electricity-supplier-\\nhas-put-up-its-prices) Your feedback will help us give millions of people the\\ninformation they need.\\n## Related content\"),\n",
       " Document(metadata={'source_url': 'https://www.citizensadvice.org.uk/debt-and-money/using-a-food-bank/', 'markdown_length': 4280, 'raw_markdown': \"#  Using a food bank\\nThis advice applies to England.  See advice for [See advice for Northern\\nIreland](/northern-ireland/debt-and-money/food-bank/using-a-food-bank/), [See\\nadvice for Scotland](/scotland/debt-and-money/food-bank/using-a-food-bank/),\\n[See advice for Wales](/wales/debt-and-money/food-bank/using-a-food-bank/)\\nFood banks are community organisations that can help if you can’t afford the\\nfood you need.\\nYou’ll usually need to get a referral to a food bank before you can use it.\\nThis includes all food banks run by the Trussell Trust.\\nYou can get a referral for yourself and any family members you live with -\\nincluding your partner.\\nYou might be able to use some food banks without a referral - for example, if\\nit’s run by a church. Contact your local food bank to see if you need a\\nreferral.\\n## Getting a referral\\nYou can ask your nearest Citizens Advice to refer you to a food bank. They'll\\nusually make an appointment for you to discuss your situation with an adviser\\nfirst.\\nThe adviser will ask you some questions to check you’re eligible for the food\\nbank. If you’re eligible, they’ll give you a voucher for your nearest food\\nbank.\\nThey can also check if you should be getting any benefits you're not currently\\nclaiming and tell you about other local help you could get. The adviser can\\ngive you advice about budgeting and any debts you have.\\n[Find your nearest Citizens Advice](/about-us/contact-us/contact-us/contact-\\nus/).\\n### If you can't go to Citizens Advice\\nYou can ask for a referral from another organisation - for example your GP,\\nhousing association or social worker.\\nYour local council might be able to tell you how to get a referral to a food\\nbank.\\nWhen you contact your local council, ask if they can also help you with other\\nessential costs like clothes and petrol. They might give you help from their\\n‘household support fund’ or ‘welfare assistance scheme’.\\nYou can [find your local council's contact details](https://www.gov.uk/find-\\nlocal-council) on GOV.UK.\\n## Going to a food bank\\nWhen an organisation refers you to a food bank, they’ll give you a voucher and\\ntell you where the food bank is. Check if the voucher is only valid on a\\nspecific day - you can ask the person who refers you.\\nIf the food bank is run by the Trussell Trust you can [check the address on\\nthe Trussell Trust website](https://www.trusselltrust.org/get-help/find-a-\\nfoodbank/).\\nThe food bank will give you a food parcel. Your parcel will usually contain\\nenough food for 3 days. The food bank might also be able to give you essential\\ntoiletries, like toothpaste or deodorant.\\nWhen you visit the food bank, let them know if you have any allergies or\\ndietary requirements - they should be able to help you.\\nThe food bank might be able to deliver your food parcel if:\\n  * you live in a rural area and can't afford to travel\\n  * you’re sick or disabled and can’t travel\\nContact the food bank to check if they can deliver.\\nIf the food bank is run by a church or other religious group, they'll still\\nhelp you if you're not religious or from a different religion.\\n## If you need to use the food bank again\\nYou'll need to get another referral before you can use the food bank again.\\nSome food banks have a limit on the number of times you can visit - but it's\\nstill worth asking if you really need the food. If you're in this situation,\\n[talk to an adviser](/about-us/contact-us/contact-us/contact-us/).\\nThe adviser will ask you some questions about why you still need to use the\\nfood bank. They'll refer you if they agree it's the best way to help you. Even\\nif they can't refer you they'll give you advice on debt or problems with\\nbenefits if you need it.\\n## Get help with the cost of living\\nIf you're over 18, you can [use the Turn2us benefits calculator\\n](https://benefits-calculator.turn2us.org.uk/AboutYou)to check which benefits\\nyou can get.\\nYou can also [check what other help you can get with the cost of\\nliving](/debt-and-money/cost-of-living/get-help-with-the-cost-of-living/).\\n## Help us improve our website\\n[Take 3 minutes to tell us if you found what you needed on our\\nwebsite.](https://www.research.net/r/PZ7TFCQ?p=%2Fdebt-and-money%2Ffood-\\nbank%2Fusing-a-food-bank) Your feedback will help us give millions of people\\nthe information they need.\\n## Related content\\n\"}, page_content=\"#  Using a food bank\\nThis advice applies to England.  See advice for [See advice for Northern\\nIreland](/northern-ireland/debt-and-money/food-bank/using-a-food-bank/), [See\\nadvice for Scotland](/scotland/debt-and-money/food-bank/using-a-food-bank/),\\n[See advice for Wales](/wales/debt-and-money/food-bank/using-a-food-bank/)\\nFood banks are community organisations that can help if you can’t afford the\\nfood you need.\\nYou’ll usually need to get a referral to a food bank before you can use it.\\nThis includes all food banks run by the Trussell Trust.\\nYou can get a referral for yourself and any family members you live with -\\nincluding your partner.\\nYou might be able to use some food banks without a referral - for example, if\\nit’s run by a church. Contact your local food bank to see if you need a\\nreferral.\\n## Getting a referral\\nYou can ask your nearest Citizens Advice to refer you to a food bank. They'll\\nusually make an appointment for you to discuss your situation with an adviser\\nfirst.\\nThe adviser will ask you some questions to check you’re eligible for the food\\nbank. If you’re eligible, they’ll give you a voucher for your nearest food\\nbank.\\nThey can also check if you should be getting any benefits you're not currently\\nclaiming and tell you about other local help you could get. The adviser can\\ngive you advice about budgeting and any debts you have.\\n[Find your nearest Citizens Advice](/about-us/contact-us/contact-us/contact-\\nus/).\\n### If you can't go to Citizens Advice\\nYou can ask for a referral from another organisation - for example your GP,\\nhousing association or social worker.\\nYour local council might be able to tell you how to get a referral to a food\\nbank.\\nWhen you contact your local council, ask if they can also help you with other\\nessential costs like clothes and petrol. They might give you help from their\\n‘household support fund’ or ‘welfare assistance scheme’.\\nYou can [find your local council's contact details](https://www.gov.uk/find-\\nlocal-council) on GOV.UK.\\n## Going to a food bank\"),\n",
       " Document(metadata={'source_url': 'https://www.citizensadvice.org.uk/work/sick-leave-and-sick-pay/check-if-you-can-get-sick-pay/', 'markdown_length': 13956, 'raw_markdown': \"#  Check if you can get sick pay\\nThis advice applies to England.  See advice for [See advice for Northern\\nIreland](/northern-ireland/work/sick-leave-and-sick-pay/check-if-you-can-get-\\nsick-pay/), [See advice for Scotland](/scotland/work/sick-leave-and-sick-\\npay/check-if-you-can-get-sick-pay/), [See advice for Wales](/wales/work/sick-\\nleave-and-sick-pay/check-if-you-can-get-sick-pay/)\\nYou might be able to get Statutory Sick Pay (SSP) when you're off work sick.\\nIt depends on your earnings and your situation.\\nYou can't get SSP for the first 3 days you're off sick but after that you can\\nget £116.75 a week for up to 28 weeks.\\nYour employer might also pay you their own sick pay - usually called\\n‘contractual sick pay’ (CSP). You get CSP and SSP at the same time.\\n## Check the main eligibility rules\\nIf you work for an employer, you can usually get SSP if you:\\n  * have started work with your employer\\n  * are sick for 4 full days or more in a row, including your non-working days\\n  * earn at least £123 a week on average, before tax\\nYou’ll also need to follow your employer’s rules for getting SSP - check your\\ncontract or staff handbook.\\nYou can’t get SSP if you:\\n  * are self-employed\\n  * had SSP for 28 weeks and the 28 weeks ended within the last 8 weeks\\n  * were paid Employment and Support Allowance (ESA) in the last 12 weeks\\n  * are in the armed forces\\n  * are in legal custody, detained either by the police or in prison\\n  * have an agricultural workers contract from before 1 October 2013\\nYou can [read about agricultural sick pay on\\nGOV.UK](https://www.gov.uk/agricultural-sick-pay).\\n### If you’re on maternity leave\\nYou can’t get paid SSP if you’re getting Statutory Maternity Pay (SMP) or\\nMaternity Allowance (MA).\\nEven if you’re not getting SMP and MA you can’t get SSP for the first 18 weeks\\nof your maternity leave.\\nYour first 18 weeks starts when, either:\\n  * you give birth\\n  * you’re off sick for a pregnancy-related reason in the 4 weeks before your due date\\n## If you’re part-time or an agency worker\\nIf your employer takes off tax and National Insurance from your pay or you\\nearn at least £123 a week on average, you can get SSP. This includes if you:\\n  * work part-time\\n  * are on a zero-hours contract\\n  * are on a fixed-term contract \\nIf you get sick when you’re temping and can’t go to work, you might be able to\\nget SSP until your job ends.\\nIf you agreed to do another job, you might get SSP until the end of that job\\nas well.\\nIf you don’t have a job when you get sick, you can’t get SSP.\\n### You’re on a zero-hours contract\\nYou can still get SSP - you should ask your employer for it. If they say no,\\nask them to explain why. They might say you don’t have any ‘qualifying days’ -\\nthese are your shifts that are on the same day from week to week.\\n#### Check how to work out your qualifying days to get SSP\\nYou should make a list of when you have recently worked. Write down any days\\nin your weekly shifts that have been the same from week to week - your\\nqualifying days.\\nFor example, you might have worked on Tuesday and Thursday every week for the\\npast 8 weeks - so Tuesday and Thursday will be your qualifying days. You can\\nlook back more than 8 weeks if you think it will help your case - there are no\\nrules on how far back you can look.\\nIf you and your employer can't agree on your qualifying days, you can [check\\nwhat to do if your employer refuses to pay you sick pay](/work/sick-leave-and-\\nsick-pay/if-your-employer-refuses-to-pay-you-sick-pay/).\\n## Check if you can get contractual sick pay CSP\\nYour contract might say you can get (CSP) - this is sick pay your employer\\nmight pay as well as SSP.\\nHow much CSP you get and how long you get it for will depend on what your\\ncontract says. You might get CSP from your first day off sick. CSP can’t be\\nless than £116.75 a week.\\nIf your contract doesn't mention sick pay or you don't have a contract, you\\nshould ask your employer. You might also find details about CSP in your staff\\nhandbook or intranet.\\nIf your employer doesn’t pay CSP then you should get SSP from day 4 of being\\noff sick.\\n## Check if you can get SSP in your situation\\nThe SSP rules can change depending on your situation.\\n###  You’re self-isolating because of coronavirus\\nThe government have ended the laws about self-isolating. This means you don't\\nlegally have to self-isolate, but the government still recommend you self-\\nisolate if you test positive for coronavirus.\\nIf you’re able to work, you don’t have the right to get SSP just because\\nyou’re self-isolating or you’ve got coronavirus. It’s worth speaking to your\\nemployer - they might agree to let you take paid sick leave.\\nIf you’re too ill to work, the normal rules about getting SSP apply.\\n###  You want to work less hours after illness or surgery\\nIf you’ve been off work for surgery or a long illness, you might want to work\\nless hours for a while - for example, working 3 days a week instead of your\\nnormal 5 days a week. This is called a ‘phased return’ to work.\\nYour doctor can write a fit note that recommends you work less hours a week,\\nwhile you recover.\\n### Work out your pay and sick pay while working less hours\\nYou should get your normal pay on the days you work and SSP on the days you\\ndon’t work. You have to have 4 days in a row off sick to get SSP - this\\nincludes Saturday and Sunday. So you might want to take Monday and Tuesday as\\nyour sick leave days.\\nIf you only take 1 day as your sick leave day, you won’t get SSP for that day.\\nFor example, you take Monday as your sick leave day and work Tuesday to\\nFriday.\\nYour pay might be less while you work less hours. You might also get less SSP\\nand CSP. You should discuss with your employer what your pay, SSP and CSP will\\nbe during your phased return - it’s a good idea to get this in writing.\\n###  You're pregnant\\nIf you can get sick pay depends on if your illness is related to your\\npregnancy or not.\\nYou can [read more on getting sick pay when you’re pregnant](/work/sick-leave-\\nand-sick-pay/getting-sick-pay-when-youre-pregnant/).\\n###  You're returning to work after getting maternity pay\\nIf you become sick before or during your maternity pay period you won't get\\nSSP until 8 weeks after your maternity pay ends.\\nIf you become sick after your maternity pay period ends you can get statutory\\nsick pay if you're entitled.\\n###  You're in hospital\\nIf you’re eligible for SSP you should get it during any time you have to stay\\nin hospital.\\nIf you’re in hospital to have planned surgery, you should still get SSP for\\nyour time in hospital and your recovery time at home. Planned surgery is also\\ncalled ‘elective surgery’.\\nYou should check your contract and staff handbook to see if you can also get\\nContractual Sick Pay (CSP) for elective surgery.\\n###  You have more than 1 employer\\nIf you have more than 1 employer you can get SSP from each one. Treat each\\nemployer as if they were your only employer to see if they should pay you SSP.\\nIf your illness means you can do 1 of your jobs but not the other, you could\\nget SSP from 1 while getting your normal wages from the other. You should ask\\nyour doctor to explain this on your fit note.\\n###  You're getting your pension\\nIf you work and get your State Pension or a workplace pension, you can still\\nget SSP.\\nIf you can’t get SSP you might be able to get Pension Credit. You can [check\\nif you can get Pension Credit](/benefits/help-if-on-a-low-income/pension-\\ncredit/before-you-claim-pension-credit/check-if-you-can-get-pension-credit/).\\nIf you have a disability or illness that makes it hard for you to look after\\nyourself, you might also be able to get Attendance Allowance. You can [check\\nif you can get Attendance Allowance](/benefits/sick-or-disabled-people-and-\\ncarers/attendance-allowance/before-you-claim-attendance-allowance/check-if-\\nentitled-to-attendance-allowance/).\\n###  You're on strike\\nYou can get SSP if your sickness started before the industrial action trade\\ndispute began.\\nYou can't get SSP if your illness started when you were already off work\\nbecause of a trade dispute. You might be able to claim Employment and Support\\nAllowance (ESA) instead - [check if you can claim ESA](/benefits/sick-or-\\ndisabled-people-and-carers/employment-and-support-allowance/help-with-your-\\nesa-claim/check-if-you-can-claim-esa/).\\n## If your employer says you can’t get SSP\\nAsk your employer to give you a written explanation of their reasons. They\\nshould give you this on a form called ‘statutory sick pay and an employee's\\nclaim for benefit (SSP1)’. You should be given the form within 7 days of you\\ngoing off sick. You’ll need the SSP1 form to claim benefits.\\nIf your employer hasn’t given you form SSP1, you should first ask them for a\\nwritten statement explaining why you can’t get SSP. You could also give them a\\ncopy of the form to fill in - you can [get the SSP1 form on\\nGOV.UK](https://www.gov.uk/government/publications/statutory-sick-pay-\\nemployee-not-entitled-form-for-employers).\\n### If you can’t get form SSP1 or a written statement from your employer\\nContact HMRC’s Statutory Payment Dispute Team. They’ll ask your employer why\\nthey think you’re not entitled to SSP.\\nYou’ll need to have this information ready when you to talk to HMRC:\\n  * your name, address and national insurance number\\n  * your employer's name and contact details\\n  * your payroll number\\n  * details of when you were off sick\\n  * what your employer said when you asked for SSP and the SSP1 form\\n**HMRC Statutory Payment Dispute Team**\\nTelephone: 0300 322 9422\\nTextphone: 0300 200 3212\\nMonday to Thursday, 8.30am to 5pm\\nFriday, 8.30am to 4.30pm\\nRelay UK - if you can't hear or speak on the phone, you can type what you want\\nto say: 18001 then 0300 322 9422\\nYou can use Relay UK with an app or a textphone. There’s no extra charge to\\nuse it. [Find out how to use Relay UK on the Relay UK\\nwebsite](https://www.relayuk.bt.com/how-to-use-relay-uk.html).\\nYour call is likely to be free of charge if you have a phone deal that\\nincludes free calls to landlines - [find out more about calling 030\\nnumbers](/consumer/phone-internet-downloads-or-tv/check-how-much-a-call-will-\\ncost/).\\nIf you’re sure you can’t get SSP, you’ll still need an SSP1 form to claim any\\nbenefits you might be eligible for - [check what benefits you can\\nget](/benefits/benefits-introduction/what-benefits-can-i-get/).\\n### If you think your employer is wrong\\nYou can challenge your employer on this - [check what to do if your employer\\nrefuses to pay you sick pay](/work/sick-leave-and-sick-pay/if-your-employer-\\nrefuses-to-pay-you-sick-pay/).\\n## If you think you’ve been treated unfairly\\nYou shouldn’t be made to feel bad about asking for sick pay. If you think\\nyou’ve been treated unfairly, disciplined or dismissed, you might be able to\\ntake action.\\nIt’s usually better if you have an informal chat with your employer first. If\\nthis doesn’t resolve your issue, you can [check how to deal with a grievance\\nat work](/work/grievance-meetings/dealing-with-grievances-at-work/).\\nIf your employer has disciplined you because you asked for sick pay, you can\\n[check how to deal with disciplinary action at work](/work/disciplinary-\\nmeetings/dealing-with-disciplinary-action-and-dismissal-at-work/).\\nYou can also [check if your dismissal is unfair](/work/dismissal/check-your-\\nrights-if-youre-dismissed/check-if-your-dismissal-is-fair/).\\n## Check what extra money you could get\\nIf your income is reduced while you’re off sick, you might be able to claim\\nbenefits. You should first [check if you can get Universal\\nCredit](/benefits/universal-credit/before-you-apply/Check-if-you-can-get-\\nUniversal-Credit/).\\nIf you’re not eligible for Universal Credit, you can [check what other\\nbenefits you can get](/benefits/benefits-introduction/what-benefits-can-i-\\nget/).\\nIf you need long-term help doing everyday tasks or getting around, you might\\nalso be able to [get Personal Independence Payment (PIP)](/benefits/sick-or-\\ndisabled-people-and-carers/pip/).\\nYou’ll need an SSP1 form to claim any benefit. You can ask your employer for\\nit or you can [get an SSP1 form on\\nGOV.UK](https://www.gov.uk/government/publications/statutory-sick-pay-\\nemployee-not-entitled-form-for-employers).\\n### If you already get benefits and tax credits\\nYou’ll still get your working or child tax credits when you’re getting SSP.\\nSome benefits might increase while your pay is less than usual. You should\\ntell your DWP office about your illness to see if you’re eligible to get more.\\n### Check if you can get a tax refund\\nYou might be able to get a tax refund if you've been off sick.\\nYou still pay tax and National Insurance when you get sick pay, so if your pay\\nis less than usual you might find you’re paying too much tax and can get some\\nback. You’ll usually get a letter from HMRC saying you’ve paid too much tax\\nand NI - but this might take a while to arrive.\\nIf you think you have paid too much tax while off sick, you can [check how to\\nclaim a tax refund on GOV.UK](https://www.gov.uk/claim-tax-refund/too-much-\\ntax-taken-from-your-pay).\\n## If you're struggling with living costs\\nIf you’re struggling with money, there are things you can do to save on your\\nregular living costs. [Check what to do if you need help with living\\ncosts](/debt-and-money/cost-of-living/get-help-with-the-cost-of-living/).\\nIf you’re finding it hard to pay your bills, you can get help. [Find out more\\nabout getting help with your bills](/debt-and-money/budgeting1/get-help-with-\\nbills/).\\nYou can also [get help with debts](/debt-and-money/help-with-debt/).\\nIf you're struggling to pay for food, find out how to [get help from a food\\nbank](/debt-and-money/food-bank/using-a-food-bank/).\\n## Help us improve our website\\n[Take 3 minutes to tell us if you found what you needed on our\\nwebsite.](https://www.research.net/r/PZ7TFCQ?p=%2Fwork%2Fsick-leave-and-sick-\\npay%2Fcheck-if-you-can-get-sick-pay) Your feedback will help us give millions\\nof people the information they need.\\nPage last reviewed on **09 December 2022**\\n## Related content\\n\"}, page_content='bank](/debt-and-money/food-bank/using-a-food-bank/).\\n## Help us improve our website\\n[Take 3 minutes to tell us if you found what you needed on our\\nwebsite.](https://www.research.net/r/PZ7TFCQ?p=%2Fwork%2Fsick-leave-and-sick-\\npay%2Fcheck-if-you-can-get-sick-pay) Your feedback will help us give millions\\nof people the information they need.\\nPage last reviewed on **09 December 2022**\\n## Related content'),\n",
       " Document(metadata={'source_url': 'https://www.citizensadvice.org.uk/debt-and-money/', 'markdown_length': 354, 'raw_markdown': '# Debt and money\\n##  Get help with the cost of living\\n##  Help with debt\\n##  Using a food bank\\n##  Debt solutions\\n##  Budgeting\\n##  Mortgage problems\\n##  Rent arrears\\n##  Action your creditor can take\\n##  Borrowing money\\n##  Banking\\n##  Pensions\\n##  Getting financial advice\\n##  Template letters to creditors\\n##  Gambling problems\\n##  Getting tax advice\\n'}, page_content='# Debt and money\\n##  Get help with the cost of living\\n##  Help with debt\\n##  Using a food bank\\n##  Debt solutions\\n##  Budgeting\\n##  Mortgage problems\\n##  Rent arrears\\n##  Action your creditor can take\\n##  Borrowing money\\n##  Banking\\n##  Pensions\\n##  Getting financial advice\\n##  Template letters to creditors\\n##  Gambling problems\\n##  Getting tax advice'),\n",
       " Document(metadata={'source_url': 'https://www.citizensadvice.org.uk/debt-and-money/using-a-food-bank/', 'markdown_length': 4280, 'raw_markdown': \"#  Using a food bank\\nThis advice applies to England.  See advice for [See advice for Northern\\nIreland](/northern-ireland/debt-and-money/food-bank/using-a-food-bank/), [See\\nadvice for Scotland](/scotland/debt-and-money/food-bank/using-a-food-bank/),\\n[See advice for Wales](/wales/debt-and-money/food-bank/using-a-food-bank/)\\nFood banks are community organisations that can help if you can’t afford the\\nfood you need.\\nYou’ll usually need to get a referral to a food bank before you can use it.\\nThis includes all food banks run by the Trussell Trust.\\nYou can get a referral for yourself and any family members you live with -\\nincluding your partner.\\nYou might be able to use some food banks without a referral - for example, if\\nit’s run by a church. Contact your local food bank to see if you need a\\nreferral.\\n## Getting a referral\\nYou can ask your nearest Citizens Advice to refer you to a food bank. They'll\\nusually make an appointment for you to discuss your situation with an adviser\\nfirst.\\nThe adviser will ask you some questions to check you’re eligible for the food\\nbank. If you’re eligible, they’ll give you a voucher for your nearest food\\nbank.\\nThey can also check if you should be getting any benefits you're not currently\\nclaiming and tell you about other local help you could get. The adviser can\\ngive you advice about budgeting and any debts you have.\\n[Find your nearest Citizens Advice](/about-us/contact-us/contact-us/contact-\\nus/).\\n### If you can't go to Citizens Advice\\nYou can ask for a referral from another organisation - for example your GP,\\nhousing association or social worker.\\nYour local council might be able to tell you how to get a referral to a food\\nbank.\\nWhen you contact your local council, ask if they can also help you with other\\nessential costs like clothes and petrol. They might give you help from their\\n‘household support fund’ or ‘welfare assistance scheme’.\\nYou can [find your local council's contact details](https://www.gov.uk/find-\\nlocal-council) on GOV.UK.\\n## Going to a food bank\\nWhen an organisation refers you to a food bank, they’ll give you a voucher and\\ntell you where the food bank is. Check if the voucher is only valid on a\\nspecific day - you can ask the person who refers you.\\nIf the food bank is run by the Trussell Trust you can [check the address on\\nthe Trussell Trust website](https://www.trusselltrust.org/get-help/find-a-\\nfoodbank/).\\nThe food bank will give you a food parcel. Your parcel will usually contain\\nenough food for 3 days. The food bank might also be able to give you essential\\ntoiletries, like toothpaste or deodorant.\\nWhen you visit the food bank, let them know if you have any allergies or\\ndietary requirements - they should be able to help you.\\nThe food bank might be able to deliver your food parcel if:\\n  * you live in a rural area and can't afford to travel\\n  * you’re sick or disabled and can’t travel\\nContact the food bank to check if they can deliver.\\nIf the food bank is run by a church or other religious group, they'll still\\nhelp you if you're not religious or from a different religion.\\n## If you need to use the food bank again\\nYou'll need to get another referral before you can use the food bank again.\\nSome food banks have a limit on the number of times you can visit - but it's\\nstill worth asking if you really need the food. If you're in this situation,\\n[talk to an adviser](/about-us/contact-us/contact-us/contact-us/).\\nThe adviser will ask you some questions about why you still need to use the\\nfood bank. They'll refer you if they agree it's the best way to help you. Even\\nif they can't refer you they'll give you advice on debt or problems with\\nbenefits if you need it.\\n## Get help with the cost of living\\nIf you're over 18, you can [use the Turn2us benefits calculator\\n](https://benefits-calculator.turn2us.org.uk/AboutYou)to check which benefits\\nyou can get.\\nYou can also [check what other help you can get with the cost of\\nliving](/debt-and-money/cost-of-living/get-help-with-the-cost-of-living/).\\n## Help us improve our website\\n[Take 3 minutes to tell us if you found what you needed on our\\nwebsite.](https://www.research.net/r/PZ7TFCQ?p=%2Fdebt-and-money%2Ffood-\\nbank%2Fusing-a-food-bank) Your feedback will help us give millions of people\\nthe information they need.\\n## Related content\\n\"}, page_content='living](/debt-and-money/cost-of-living/get-help-with-the-cost-of-living/).\\n## Help us improve our website\\n[Take 3 minutes to tell us if you found what you needed on our\\nwebsite.](https://www.research.net/r/PZ7TFCQ?p=%2Fdebt-and-money%2Ffood-\\nbank%2Fusing-a-food-bank) Your feedback will help us give millions of people\\nthe information they need.\\n## Related content'),\n",
       " Document(metadata={'source_url': 'https://www.citizensadvice.org.uk/benefits/universal-credit/claiming/get-advance-payment/', 'markdown_length': 7073, 'raw_markdown': \"#  Get an advance payment of Universal Credit\\nThis advice applies to England.  See advice for [See advice for Northern\\nIreland](/northern-ireland/benefits/universal-credit/claiming/get-advance-\\npayment/), [See advice for Scotland](/scotland/benefits/universal-\\ncredit/claiming/get-advance-payment/), [See advice for\\nWales](/wales/benefits/universal-credit/claiming/get-advance-payment/)\\nYou can ask for an advance payment of Universal Credit to help you get by\\nwhile you're waiting for your first payment. You can also ask for an advance\\npayment if [your circumstances have changed](/benefits/universal-credit/what-\\nyoull-need-to-do-on-universal-credit/check-if-a-change-affects-your-universal-\\ncredit/) and you expect your Universal Credit payments to increase.\\nWithout an advance payment you usually won’t get any money until at least 5\\nweeks after you apply for Universal Credit.\\nYou should ask for an advance payment if you don’t think you’ll have enough\\nmoney to live on between when you apply and when you get your first payment.\\nThe advance payment is a loan - you’ll have to pay it back, but you won’t need\\nto pay any interest.\\n## Getting an advance payment\\nYou can ask for an advance payment by:\\n  * asking your work coach at your first Universal Credit interview\\n  * applying through your online account\\n  * calling the Universal Credit helpline\\nYou can’t ask for an advance online or by calling the helpline unless you’ve\\nhad your first Universal Credit interview - [find out how to book your\\nUniversal Credit interview](/benefits/universal-credit/claiming/going-to-your-\\ninterview/).\\nThe DWP will tell you if you can get an advance payment - you’ll usually find\\nout on the same day you ask for it.\\nOnce the DWP have agreed to an advance payment you should get the money in 3\\nworking days. Tell the DWP if you need it sooner than this - they can pay you\\non the same day if you’d have no other money to live on.\\nThe DWP will pay the advance into the same bank account you’re using for your\\nUniversal Credit claim.\\nYou can ask for up to a month of your Universal Credit entitlement. You don’t\\nhave to ask for your full entitlement - you can ask for less. If you decide\\nyou need more, you can ask for a second payment but you’ll have to explain why\\nyou need it. The first and second payments added together can’t add up to more\\nthan your monthly entitlement.\\nExample\\nSam's monthly entitlement is £500. He asks his work coach for an advance of\\n£200 - he can ask later for a second payment but won’t get more than £300.\\nTalk to your work coach about how much you can ask for. You'll pay your\\nadvance back through monthly deductions from your Universal Credit. Ask your\\nwork coach how much the deductions will be.\\nIf you borrow a whole month's payment make sure you keep some back to pay your\\nrent. Rent is included in your Universal Credit payment - it isn't usually\\npaid straight to your landlord.\\n## If you've already had your interview\\nYou can phone the Universal Credit helpline to ask for an advance payment or\\napply through your online account. You can ask up to 1 month after you apply\\nfor Universal Credit.\\nIt’s best to ask as soon as possible. Once you claim Universal Credit it will\\ntake at least 5 weeks for you to get your first payment. You'll need to think\\nabout how much money you'll need until your first payment.\\n**Universal Credit helpline**\\nTelephone: 0800 328 5644\\nTelephone (Welsh language): 0800 328 1744\\nTextphone: 0800 328 1344\\nRelay UK - if you can't hear or speak on the phone, you can type what you want\\nto say: 18001 then 0800 328 5644\\nYou can use Relay UK with an app or a textphone. There’s no extra charge to\\nuse it. [Find out how to use Relay UK](https://www.relayuk.bt.com/how-to-use-\\nrelay-uk.html) on the Relay UK website.\\n[Video relay](https://connect.interpreterslive.co.uk/vrs?ilc=DWP) \\\\- if you\\nuse British Sign Language (BSL).\\nYou can [find out how to use video relay on\\nYouTube](https://www.youtube.com/watch?v=oELNMfAvDxw).\\nMonday to Friday, 8am to 6pm\\nCalls are free from mobiles and landlines.\\nExample\\nAlice applies for Universal Credit on Monday 1 October 2018.\\nOne month after this would be Thursday 1 November 2018.\\nThree working days before that would be Monday 29 October 2018.\\nSo Alice has until Monday 29 October 2018 to ask for an advance payment. It’s\\nstill best if she asks as soon as possible, so she can get her money sooner.\\n## Repaying the advance payment\\nThe DWP will automatically take repayments from your Universal Credit until\\nyou’ve paid the advance back. You’ll need to agree with the DWP about how much\\nthe repayments will be and how long it will take to repay them.\\nIf you applied for an advance on or after 12 April 2021, you can spend up to\\n24 months paying it back. If you applied before then, you can spend up to 12\\nmonths paying it back.\\nThe DWP shouldn’t ask you to pay it back sooner if you can’t afford it - tell\\nyour work coach if the repayments will cause you hardship. You can ask to pay\\nit back quicker if you want to.\\n## If you're refused an advance payment\\nYou can ask the DWP to look at the decision again if they won’t give you an\\nadvance payment. It will help if you can give new evidence or show that your\\ncircumstances have changed since your first request.\\nIf you're struggling to get by, [check what extra help you can get](/debt-and-\\nmoney/cost-of-living/get-help-with-the-cost-of-living/).\\nYou can read more advice about [getting help with your living costs](/debt-\\nand-money/budgeting1/).\\n## If you're in debt or rent arrears\\nThere are some [steps you can take to help you reduce your\\ndebt](/benefits/universal-credit/on-universal-credit/universal-credit-debt-\\nrent-arrears/) if you've just applied for Universal Credit.\\nYou can also read our [advice on dealing with debt](/debt-and-money/help-with-\\ndebt/).\\n## If you’re struggling with costs\\nYou might be able to get help from your local council or an interest-free loan\\nfrom the government. [Find out how to get extra help.](/debt-and-money/cost-\\nof-living/get-help-with-the-cost-of-living/)\\nIf you have a child under the age of 14 or a disabled child, your local\\ncouncil should help you. They might cover essential living costs or find you\\nsomewhere else to live if you’re struggling with housing costs. [Find your\\nlocal council](https://www.gov.uk/find-local-council) on GOV.UK.\\nIf you're struggling to pay for food, [find out how to get help from a food\\nbank](/debt-and-money/food-bank/using-a-food-bank/). If you have children,\\n[check if they can get free school meals](/family/education/help-with-school-\\ncosts/).\\n[Get help from an adviser](/about-us/contact-us/contact-us/contact-us/) if\\nyou’re struggling with costs while waiting to get your first Universal Credit\\npayment.\\n## Help us improve our website\\n[Take 3 minutes to tell us if you found what you needed on our\\nwebsite.](https://www.research.net/r/PZ7TFCQ?p=%2Fbenefits%2Funiversal-\\ncredit%2Fclaiming%2Fget-advance-payment) Your feedback will help us give\\nmillions of people the information they need.\\nPage last reviewed on **19 June 2018**\\n## Related content\\n\"}, page_content=\"from the government. [Find out how to get extra help.](/debt-and-money/cost-\\nof-living/get-help-with-the-cost-of-living/)\\nIf you have a child under the age of 14 or a disabled child, your local\\ncouncil should help you. They might cover essential living costs or find you\\nsomewhere else to live if you’re struggling with housing costs. [Find your\\nlocal council](https://www.gov.uk/find-local-council) on GOV.UK.\\nIf you're struggling to pay for food, [find out how to get help from a food\\nbank](/debt-and-money/food-bank/using-a-food-bank/). If you have children,\\n[check if they can get free school meals](/family/education/help-with-school-\\ncosts/).\\n[Get help from an adviser](/about-us/contact-us/contact-us/contact-us/) if\\nyou’re struggling with costs while waiting to get your first Universal Credit\\npayment.\\n## Help us improve our website\\n[Take 3 minutes to tell us if you found what you needed on our\\nwebsite.](https://www.research.net/r/PZ7TFCQ?p=%2Fbenefits%2Funiversal-\\ncredit%2Fclaiming%2Fget-advance-payment) Your feedback will help us give\\nmillions of people the information they need.\\nPage last reviewed on **19 June 2018**\\n## Related content\")]"
      ]
     },
     "execution_count": 197,
     "metadata": {},
     "output_type": "execute_result"
    }
   ],
   "source": [
    "question = \"What can I do to help if I can't afford to pay for food can I use a foodbank?\"\n",
    "\n",
    "initial_state: GraphState = dict(\n",
    "    question=question\n",
    ")\n",
    "config = {\"configurable\": {\"thread_id\": \"1\"}}\n",
    "response = app.invoke(initial_state, config=config)\n",
    "print(\"\"\"Please select which of the following documents you would like to use for generation:\"\"\")\n",
    "docs = app.get_state(config).values['documents']\n",
    "docs"
   ]
  },
  {
   "cell_type": "code",
   "execution_count": 198,
   "metadata": {},
   "outputs": [
    {
     "name": "stdout",
     "output_type": "stream",
     "text": [
      "---GENERATE---\n",
      "(' You can ask your nearest Citizens Advice to refer you to a food bank. '\n",
      " \"They'll usually make an appointment for you to discuss your situation with \"\n",
      " 'an adviser first.\\n'\n",
      " \"The adviser will ask you some questions to check you're eligible for the \"\n",
      " \"food bank. If you're eligible, they'll give you a voucher for your nearest \"\n",
      " 'food bank.\\n'\n",
      " \"They can also check if you should be getting any benefits you're not \"\n",
      " 'currently claiming and tell you about other local help you could get. The '\n",
      " 'adviser can give you advice about budgeting and any debts you have.\\n'\n",
      " '[Find your nearest Citizens Advice](/about-us/contact-us/contact-us')\n"
     ]
    }
   ],
   "source": [
    "app.update_state(config, {\"documents\": [docs[1]]})\n",
    "response = app.invoke(None, config=config)\n",
    "pprint(response['generation'])"
   ]
  },
  {
   "cell_type": "code",
   "execution_count": null,
   "metadata": {},
   "outputs": [],
   "source": []
  }
 ],
 "metadata": {
  "kernelspec": {
   "display_name": ".venv",
   "language": "python",
   "name": "python3"
  },
  "language_info": {
   "codemirror_mode": {
    "name": "ipython",
    "version": 3
   },
   "file_extension": ".py",
   "mimetype": "text/x-python",
   "name": "python",
   "nbconvert_exporter": "python",
   "pygments_lexer": "ipython3",
   "version": "3.12.5"
  }
 },
 "nbformat": 4,
 "nbformat_minor": 2
}
