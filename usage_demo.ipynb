{
 "cells": [
  {
   "cell_type": "code",
   "execution_count": null,
   "metadata": {},
   "outputs": [],
   "source": [
    "import os\n",
    "\n",
    "from dotenv import load_dotenv\n",
    "\n",
    "from caddy_scraper import CaddyScraper\n",
    "from vectorstore_manager import VectorStoreManager\n",
    "\n",
    "load_dotenv()"
   ]
  },
  {
   "cell_type": "code",
   "execution_count": null,
   "metadata": {},
   "outputs": [],
   "source": [
    "scraper = CaddyScraper(\n",
    "    base_url=\"https://www.citizensadvice.org.uk/\",\n",
    "    sitemap_url=\"https://www.citizensadvice.org.uk/sitemap.xml\",\n",
    "    crawling_method='sitemap',\n",
    "    output_dir='ca_test_scrape',\n",
    "    div_ids=[\"main-content\", \"cads-main-content\"],\n",
    "    div_classes=[\"main-content\", \"cads-main-content\"]\n",
    ")\n",
    "scraper.run()"
   ]
  },
  {
   "cell_type": "code",
   "execution_count": null,
   "metadata": {},
   "outputs": [],
   "source": [
    "manager = VectorStoreManager(\n",
    "    authentication_creds=(os.getenv(\"OPENSEARCH_ADMIN\"), os.getenv(\"OPENSEARCH_ADMIN_PASSWORD\")),\n",
    "    opensearch_url=\"https://search-caddy-vector-db-qocexipbio42soi53zdl5zzcqy.eu-west-2.es.amazonaws.com\",\n",
    "    scrape_output_path='ca_test_scrape',\n",
    "    index_name='ca_test'\n",
    ")\n",
    "await manager.run()"
   ]
  }
 ],
 "metadata": {
  "kernelspec": {
   "display_name": ".venv",
   "language": "python",
   "name": "python3"
  },
  "language_info": {
   "codemirror_mode": {
    "name": "ipython",
    "version": 3
   },
   "file_extension": ".py",
   "mimetype": "text/x-python",
   "name": "python",
   "nbconvert_exporter": "python",
   "pygments_lexer": "ipython3",
   "version": "3.12.3"
  }
 },
 "nbformat": 4,
 "nbformat_minor": 2
}
